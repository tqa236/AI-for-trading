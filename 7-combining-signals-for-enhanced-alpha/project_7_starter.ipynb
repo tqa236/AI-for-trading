{
 "cells": [
  {
   "cell_type": "markdown",
   "metadata": {},
   "source": [
    "# Project 7: Combine Signals for Enhanced Alpha\n",
    "## Instructions\n",
    "Each problem consists of a function to implement and instructions on how to implement the function.  The parts of the function that need to be implemented are marked with a `# TODO` comment. After implementing the function, run the cell to test it against the unit tests we've provided. For each problem, we provide one or more unit tests from our `project_tests` package. These unit tests won't tell you if your answer is correct, but will warn you of any major errors. Your code will be checked for the correct solution when you submit it to Udacity.\n",
    "\n",
    "## Packages\n",
    "When you implement the functions, you'll only need to you use the packages you've used in the classroom, like [Pandas](https://pandas.pydata.org/) and [Numpy](http://www.numpy.org/). These packages will be imported for you. We recommend you don't add any import statements, otherwise the grader might not be able to run your code.\n",
    "\n",
    "The other packages that we're importing are `project_helper` and `project_tests`. These are custom packages built to help you solve the problems.  The `project_helper` module contains utility functions and graph functions. The `project_tests` contains the unit tests for all the problems.\n",
    "\n",
    "### Install Packages"
   ]
  },
  {
   "cell_type": "code",
   "execution_count": 1,
   "metadata": {
    "scrolled": false
   },
   "outputs": [
    {
     "name": "stdout",
     "output_type": "stream",
     "text": [
      "Processing /root/.cache/pip/wheels/1c/9e/b8/a502db514b9cf748687129d96fb1f8156f47ef6ab450abf4d0/alphalens-0.3.2-py3-none-any.whl\n",
      "Collecting graphviz==0.10.1\n",
      "  Downloading graphviz-0.10.1-py2.py3-none-any.whl (16 kB)\n",
      "Collecting numpy==1.14\n",
      "  Downloading numpy-1.14.0-cp36-cp36m-manylinux1_x86_64.whl (17.2 MB)\n",
      "\u001b[K     |████████████████████████████████| 17.2 MB 2.8 MB/s eta 0:00:01    |██████████▋                     | 5.7 MB 3.7 MB/s eta 0:00:04\n",
      "\u001b[?25hCollecting pandas==0.18.1\n",
      "  Downloading pandas-0.18.1.tar.gz (7.3 MB)\n",
      "\u001b[K     |████████████████████████████████| 7.3 MB 128 kB/s eta 0:00:01\n",
      "\u001b[?25hCollecting python-dateutil==2.6.1\n",
      "  Downloading python_dateutil-2.6.1-py2.py3-none-any.whl (194 kB)\n",
      "\u001b[K     |████████████████████████████████| 194 kB 9.6 MB/s eta 0:00:01\n",
      "\u001b[?25hCollecting pytz==2017.3\n",
      "  Downloading pytz-2017.3-py2.py3-none-any.whl (511 kB)\n",
      "\u001b[K     |████████████████████████████████| 511 kB 12.2 MB/s eta 0:00:01\n",
      "\u001b[?25hCollecting scipy==1.0.0\n",
      "  Downloading scipy-1.0.0-cp36-cp36m-manylinux1_x86_64.whl (50.0 MB)\n",
      "\u001b[K     |████████████████████████████████| 50.0 MB 34 kB/s  eta 0:00:013\n",
      "\u001b[?25hRequirement already satisfied: scikit-learn==0.19.1 in /usr/local/lib/python3.6/site-packages (from -r requirements.txt (line 8)) (0.19.1)\n",
      "Requirement already satisfied: six==1.11.0 in /usr/local/lib/python3.6/site-packages (from -r requirements.txt (line 9)) (1.11.0)\n",
      "Collecting tables==3.3.0\n",
      "  Downloading tables-3.3.0-cp36-cp36m-manylinux1_x86_64.whl (4.6 MB)\n",
      "\u001b[K     |████████████████████████████████| 4.6 MB 6.7 MB/s eta 0:00:01\n",
      "\u001b[?25hRequirement already satisfied: tqdm==4.19.5 in /usr/local/lib/python3.6/site-packages (from -r requirements.txt (line 11)) (4.19.5)\n",
      "Collecting zipline==1.2.0\n",
      "  Downloading zipline-1.2.0.tar.gz (659 kB)\n",
      "\u001b[K     |████████████████████████████████| 659 kB 2.7 MB/s eta 0:00:01\n",
      "\u001b[?25hRequirement already satisfied: statsmodels>=0.6.1 in /usr/local/lib/python3.6/site-packages (from alphalens==0.3.2->-r requirements.txt (line 1)) (0.11.1)\n",
      "Requirement already satisfied: IPython>=3.2.3 in /usr/local/lib/python3.6/site-packages (from alphalens==0.3.2->-r requirements.txt (line 1)) (7.16.1)\n",
      "Requirement already satisfied: matplotlib>=1.4.0 in /usr/local/lib/python3.6/site-packages (from alphalens==0.3.2->-r requirements.txt (line 1)) (3.3.1)\n",
      "Requirement already satisfied: seaborn>=0.6.0 in /usr/local/lib/python3.6/site-packages (from alphalens==0.3.2->-r requirements.txt (line 1)) (0.10.1)\n",
      "Collecting numexpr>=2.5.2\n",
      "  Downloading numexpr-2.7.1-cp36-cp36m-manylinux1_x86_64.whl (162 kB)\n",
      "\u001b[K     |████████████████████████████████| 162 kB 8.7 MB/s eta 0:00:01\n",
      "\u001b[?25hRequirement already satisfied: pip>=7.1.0 in /usr/local/lib/python3.6/site-packages (from zipline==1.2.0->-r requirements.txt (line 12)) (20.2.2)\n",
      "Requirement already satisfied: setuptools>18.0 in /usr/local/lib/python3.6/site-packages (from zipline==1.2.0->-r requirements.txt (line 12)) (49.6.0)\n",
      "Collecting Logbook>=0.12.5\n",
      "  Downloading Logbook-1.5.3.tar.gz (85 kB)\n",
      "\u001b[K     |████████████████████████████████| 85 kB 84 kB/s  eta 0:00:01\n",
      "\u001b[?25hCollecting requests-file>=1.4.1\n",
      "  Downloading requests_file-1.5.1-py2.py3-none-any.whl (3.7 kB)\n",
      "Collecting pandas-datareader<0.6,>=0.2.1\n",
      "  Downloading pandas_datareader-0.5.0-py2.py3-none-any.whl (74 kB)\n",
      "\u001b[K     |████████████████████████████████| 74 kB 299 kB/s  eta 0:00:01\n",
      "\u001b[?25hRequirement already satisfied: patsy>=0.4.0 in /usr/local/lib/python3.6/site-packages (from zipline==1.2.0->-r requirements.txt (line 12)) (0.5.1)\n",
      "Requirement already satisfied: requests>=2.9.1 in /usr/local/lib/python3.6/site-packages (from zipline==1.2.0->-r requirements.txt (line 12)) (2.18.4)\n",
      "Collecting Cython>=0.25.2\n",
      "  Using cached Cython-0.29.21-cp36-cp36m-manylinux1_x86_64.whl (2.0 MB)\n",
      "Collecting cyordereddict>=0.2.2\n",
      "  Downloading cyordereddict-1.0.0.tar.gz (138 kB)\n",
      "\u001b[K     |████████████████████████████████| 138 kB 8.3 MB/s eta 0:00:01\n",
      "\u001b[?25hCollecting bottleneck>=1.0.0\n",
      "  Downloading Bottleneck-1.3.2.tar.gz (88 kB)\n",
      "\u001b[K     |████████████████████████████████| 88 kB 848 kB/s  eta 0:00:01\n",
      "\u001b[?25h  Installing build dependencies ... \u001b[?25ldone\n",
      "\u001b[?25h  Getting requirements to build wheel ... \u001b[?25ldone\n",
      "\u001b[?25h    Preparing wheel metadata ... \u001b[?25ldone\n",
      "\u001b[?25hCollecting contextlib2>=0.4.0\n",
      "  Downloading contextlib2-0.6.0.post1-py2.py3-none-any.whl (9.8 kB)\n",
      "Requirement already satisfied: decorator>=4.0.0 in /usr/local/lib/python3.6/site-packages (from zipline==1.2.0->-r requirements.txt (line 12)) (4.4.2)\n",
      "Collecting networkx<2.0,>=1.9.1\n",
      "  Downloading networkx-1.11-py2.py3-none-any.whl (1.3 MB)\n",
      "\u001b[K     |████████████████████████████████| 1.3 MB 18.3 MB/s eta 0:00:01\n",
      "\u001b[?25hCollecting bcolz<1,>=0.12.1\n",
      "  Downloading bcolz-0.12.1.tar.gz (622 kB)\n",
      "\u001b[K     |████████████████████████████████| 622 kB 10.0 MB/s eta 0:00:01\n",
      "\u001b[?25hCollecting click>=4.0.0\n",
      "  Downloading click-7.1.2-py2.py3-none-any.whl (82 kB)\n",
      "\u001b[K     |████████████████████████████████| 82 kB 124 kB/s  eta 0:00:01\n",
      "\u001b[?25hCollecting toolz>=0.8.2\n",
      "  Downloading toolz-0.10.0.tar.gz (49 kB)\n",
      "\u001b[K     |████████████████████████████████| 49 kB 689 kB/s  eta 0:00:01\n",
      "\u001b[?25hCollecting multipledispatch>=0.4.8\n",
      "  Downloading multipledispatch-0.6.0-py3-none-any.whl (11 kB)\n",
      "Requirement already satisfied: MarkupSafe>=0.23 in /usr/local/lib/python3.6/site-packages (from zipline==1.2.0->-r requirements.txt (line 12)) (1.1.1)\n",
      "Collecting Mako>=1.0.1\n",
      "  Downloading Mako-1.1.3-py2.py3-none-any.whl (75 kB)\n",
      "\u001b[K     |████████████████████████████████| 75 kB 41 kB/s  eta 0:00:011\n",
      "\u001b[?25hCollecting sqlalchemy>=1.0.8\n",
      "  Downloading SQLAlchemy-1.3.19-cp36-cp36m-manylinux2010_x86_64.whl (1.3 MB)\n",
      "\u001b[K     |████████████████████████████████| 1.3 MB 10.2 MB/s eta 0:00:01\n",
      "\u001b[?25hCollecting alembic>=0.7.7\n",
      "  Downloading alembic-1.4.2.tar.gz (1.1 MB)\n",
      "\u001b[K     |████████████████████████████████| 1.1 MB 5.8 MB/s eta 0:00:01\n",
      "\u001b[?25h  Installing build dependencies ... \u001b[?25ldone\n",
      "\u001b[?25h  Getting requirements to build wheel ... \u001b[?25ldone\n",
      "\u001b[?25h    Preparing wheel metadata ... \u001b[?25ldone\n",
      "\u001b[?25hCollecting sortedcontainers>=1.4.4\n",
      "  Downloading sortedcontainers-2.2.2-py2.py3-none-any.whl (29 kB)\n",
      "Collecting intervaltree>=2.1.0\n",
      "  Downloading intervaltree-3.1.0.tar.gz (32 kB)\n",
      "Collecting lru-dict>=1.1.4\n",
      "  Downloading lru-dict-1.1.6.tar.gz (9.4 kB)\n",
      "Requirement already satisfied: empyrical>=0.4.2 in /usr/local/lib/python3.6/site-packages (from zipline==1.2.0->-r requirements.txt (line 12)) (0.5.3)\n",
      "Requirement already satisfied: traitlets>=4.2 in /usr/local/lib/python3.6/site-packages (from IPython>=3.2.3->alphalens==0.3.2->-r requirements.txt (line 1)) (4.3.3)\n",
      "Requirement already satisfied: prompt-toolkit!=3.0.0,!=3.0.1,<3.1.0,>=2.0.0 in /usr/local/lib/python3.6/site-packages (from IPython>=3.2.3->alphalens==0.3.2->-r requirements.txt (line 1)) (3.0.6)\n",
      "Requirement already satisfied: backcall in /usr/local/lib/python3.6/site-packages (from IPython>=3.2.3->alphalens==0.3.2->-r requirements.txt (line 1)) (0.2.0)\n",
      "Requirement already satisfied: pygments in /usr/local/lib/python3.6/site-packages (from IPython>=3.2.3->alphalens==0.3.2->-r requirements.txt (line 1)) (2.6.1)\n",
      "Requirement already satisfied: jedi>=0.10 in /usr/local/lib/python3.6/site-packages (from IPython>=3.2.3->alphalens==0.3.2->-r requirements.txt (line 1)) (0.17.2)\n",
      "Requirement already satisfied: pexpect; sys_platform != \"win32\" in /usr/local/lib/python3.6/site-packages (from IPython>=3.2.3->alphalens==0.3.2->-r requirements.txt (line 1)) (4.8.0)\n",
      "Requirement already satisfied: pickleshare in /usr/local/lib/python3.6/site-packages (from IPython>=3.2.3->alphalens==0.3.2->-r requirements.txt (line 1)) (0.7.5)\n",
      "Requirement already satisfied: kiwisolver>=1.0.1 in /usr/local/lib/python3.6/site-packages (from matplotlib>=1.4.0->alphalens==0.3.2->-r requirements.txt (line 1)) (1.2.0)\n",
      "Requirement already satisfied: cycler>=0.10 in /usr/local/lib/python3.6/site-packages (from matplotlib>=1.4.0->alphalens==0.3.2->-r requirements.txt (line 1)) (0.10.0)\n",
      "Requirement already satisfied: pyparsing!=2.0.4,!=2.1.2,!=2.1.6,>=2.0.3 in /usr/local/lib/python3.6/site-packages (from matplotlib>=1.4.0->alphalens==0.3.2->-r requirements.txt (line 1)) (2.4.7)\n",
      "Requirement already satisfied: pillow>=6.2.0 in /usr/local/lib/python3.6/site-packages (from matplotlib>=1.4.0->alphalens==0.3.2->-r requirements.txt (line 1)) (7.2.0)\n"
     ]
    },
    {
     "name": "stdout",
     "output_type": "stream",
     "text": [
      "Requirement already satisfied: certifi>=2020.06.20 in /usr/local/lib/python3.6/site-packages (from matplotlib>=1.4.0->alphalens==0.3.2->-r requirements.txt (line 1)) (2020.6.20)\n",
      "Collecting requests-ftp\n",
      "  Downloading requests-ftp-0.3.1.tar.gz (7.8 kB)\n",
      "Requirement already satisfied: idna<2.7,>=2.5 in /usr/local/lib/python3.6/site-packages (from requests>=2.9.1->zipline==1.2.0->-r requirements.txt (line 12)) (2.6)\n",
      "Requirement already satisfied: chardet<3.1.0,>=3.0.2 in /usr/local/lib/python3.6/site-packages (from requests>=2.9.1->zipline==1.2.0->-r requirements.txt (line 12)) (3.0.4)\n",
      "Requirement already satisfied: urllib3<1.23,>=1.21.1 in /usr/local/lib/python3.6/site-packages (from requests>=2.9.1->zipline==1.2.0->-r requirements.txt (line 12)) (1.22)\n",
      "Collecting python-editor>=0.3\n",
      "  Downloading python_editor-1.0.4-py3-none-any.whl (4.9 kB)\n",
      "Requirement already satisfied: ipython-genutils in /usr/local/lib/python3.6/site-packages (from traitlets>=4.2->IPython>=3.2.3->alphalens==0.3.2->-r requirements.txt (line 1)) (0.2.0)\n",
      "Requirement already satisfied: wcwidth in /usr/local/lib/python3.6/site-packages (from prompt-toolkit!=3.0.0,!=3.0.1,<3.1.0,>=2.0.0->IPython>=3.2.3->alphalens==0.3.2->-r requirements.txt (line 1)) (0.2.5)\n",
      "Requirement already satisfied: parso<0.8.0,>=0.7.0 in /usr/local/lib/python3.6/site-packages (from jedi>=0.10->IPython>=3.2.3->alphalens==0.3.2->-r requirements.txt (line 1)) (0.7.1)\n",
      "Requirement already satisfied: ptyprocess>=0.5 in /usr/local/lib/python3.6/site-packages (from pexpect; sys_platform != \"win32\"->IPython>=3.2.3->alphalens==0.3.2->-r requirements.txt (line 1)) (0.6.0)\n",
      "Building wheels for collected packages: pandas, zipline, Logbook, cyordereddict, bottleneck, bcolz, toolz, alembic, intervaltree, lru-dict, requests-ftp\n",
      "  Building wheel for pandas (setup.py) ... \u001b[?25ldone\n",
      "\u001b[?25h  Created wheel for pandas: filename=pandas-0.18.1-cp36-cp36m-linux_x86_64.whl size=16307885 sha256=a00ff2f8c837491361b1799a12b35fdcb24e6b5748057382503bb59545b266bf\n",
      "  Stored in directory: /root/.cache/pip/wheels/32/15/fe/873be370134a62a116784ac2e08df00bad7ef4bec708e1f73c\n",
      "  Building wheel for zipline (setup.py) ... \u001b[?25ldone\n",
      "\u001b[?25h  Created wheel for zipline: filename=zipline-1.2.0-cp36-cp36m-linux_x86_64.whl size=6593972 sha256=d9f58947a4aeacb5da71432f3b0dd552b3de45de87cb521f413303a5b9c40a91\n",
      "  Stored in directory: /root/.cache/pip/wheels/05/13/88/164e4ac4e2662016300b12a0ab0920780bbb725120ccdb858a\n",
      "  Building wheel for Logbook (setup.py) ... \u001b[?25ldone\n",
      "\u001b[?25h  Created wheel for Logbook: filename=Logbook-1.5.3-cp36-cp36m-linux_x86_64.whl size=66383 sha256=3d89027641f30d1f71d9f796d8a9e4f573f7305fcfb328dab8b00ce198e47d58\n",
      "  Stored in directory: /root/.cache/pip/wheels/27/4c/d7/c08e0670a3318441d3bd095149eb6e86e21656f102530ac8b6\n",
      "  Building wheel for cyordereddict (setup.py) ... \u001b[?25ldone\n",
      "\u001b[?25h  Created wheel for cyordereddict: filename=cyordereddict-1.0.0-cp36-cp36m-linux_x86_64.whl size=202934 sha256=5945203aa7eec3420643777e71eefe34f8eab398cbba26b99711c89a700ab5af\n",
      "  Stored in directory: /root/.cache/pip/wheels/8d/ff/1a/5f19b34a20e254f738ef53a8469e9e92ee13e66d54de3ea89c\n",
      "  Building wheel for bottleneck (PEP 517) ... \u001b[?25ldone\n",
      "\u001b[?25h  Created wheel for bottleneck: filename=Bottleneck-1.3.2-cp36-cp36m-linux_x86_64.whl size=382942 sha256=4733a356d2fa627e5bf36a48aaffd03006101f6f19b80ec1529a5f6f1b59e26e\n",
      "  Stored in directory: /root/.cache/pip/wheels/f7/a7/14/9be836efed01ac0eb3c125ac006c143b55ebf689269877d0e8\n",
      "  Building wheel for bcolz (setup.py) ... \u001b[?25ldone\n",
      "\u001b[?25h  Created wheel for bcolz: filename=bcolz-0.12.1-cp36-cp36m-linux_x86_64.whl size=1295231 sha256=04b8bf183ed72b8e75af70f15d628d74ce69a6ae6ad917f2554a81de2e51e303\n",
      "  Stored in directory: /root/.cache/pip/wheels/9f/51/d6/173c1dabc3904530cd9527026946789e2a065b004916e5c5bb\n",
      "  Building wheel for toolz (setup.py) ... \u001b[?25ldone\n",
      "\u001b[?25h  Created wheel for toolz: filename=toolz-0.10.0-py3-none-any.whl size=55576 sha256=8e6108166ac1bf33cdb6dac94f51ac478be950eea985de7b098025fa9555e101\n",
      "  Stored in directory: /root/.cache/pip/wheels/fc/da/2e/27e381e9cfc922d078a0a750c7ec72e76df66100e81722516d\n",
      "  Building wheel for alembic (PEP 517) ... \u001b[?25ldone\n",
      "\u001b[?25h  Created wheel for alembic: filename=alembic-1.4.2-py2.py3-none-any.whl size=159540 sha256=efe3d0526f0eb0c45851a7e26456f5a6ae8881a9ec5e2a028e2909718e2ae2bd\n",
      "  Stored in directory: /root/.cache/pip/wheels/f2/50/61/5cc491b0ca39be60dfb4dce940b389ff91b847d62e0eb2d680\n",
      "  Building wheel for intervaltree (setup.py) ... \u001b[?25ldone\n",
      "\u001b[?25h  Created wheel for intervaltree: filename=intervaltree-3.1.0-py2.py3-none-any.whl size=26100 sha256=0deac02d1e70dd85323e7c3d0de1ebb065c28b3dd137610fa4d36847c0f0635e\n",
      "  Stored in directory: /root/.cache/pip/wheels/fc/e6/3f/1616b381f981006664dd5123f06b231bbbb2e7d604a417e2fd\n",
      "  Building wheel for lru-dict (setup.py) ... \u001b[?25ldone\n",
      "\u001b[?25h  Created wheel for lru-dict: filename=lru_dict-1.1.6-cp36-cp36m-linux_x86_64.whl size=28801 sha256=8a2a87fd02dd2d2b2efd96af7eb7c2ca8b1d6aec27d80f4e7b4b8396d9688bc7\n",
      "  Stored in directory: /root/.cache/pip/wheels/67/83/2a/833c712d4e578ec0bc7f2ed6eeae77734eb11d2e26cdd583c0\n",
      "  Building wheel for requests-ftp (setup.py) ... \u001b[?25ldone\n",
      "\u001b[?25h  Created wheel for requests-ftp: filename=requests_ftp-0.3.1-py3-none-any.whl size=8169 sha256=d4675b14f658881cd4c07ad57dde4617a816f054c6b64533858abc8a691543c9\n",
      "  Stored in directory: /root/.cache/pip/wheels/ea/e4/5d/72f7aad2c589cd6b0fa0c38feda872115bff8512a46d6c7b74\n",
      "Successfully built pandas zipline Logbook cyordereddict bottleneck bcolz toolz alembic intervaltree lru-dict requests-ftp\n",
      "Installing collected packages: numpy, python-dateutil, pytz, pandas, scipy, alphalens, graphviz, numexpr, tables, Logbook, requests-file, requests-ftp, pandas-datareader, Cython, cyordereddict, bottleneck, contextlib2, networkx, bcolz, click, toolz, multipledispatch, Mako, sqlalchemy, python-editor, alembic, sortedcontainers, intervaltree, lru-dict, zipline\n",
      "  Attempting uninstall: numpy\n",
      "    Found existing installation: numpy 1.15.4\n",
      "    Uninstalling numpy-1.15.4:\n",
      "      Successfully uninstalled numpy-1.15.4\n",
      "  Attempting uninstall: python-dateutil\n",
      "    Found existing installation: python-dateutil 2.8.1\n",
      "    Uninstalling python-dateutil-2.8.1:\n",
      "      Successfully uninstalled python-dateutil-2.8.1\n",
      "  Attempting uninstall: pytz\n",
      "    Found existing installation: pytz 2020.1\n",
      "    Uninstalling pytz-2020.1:\n",
      "      Successfully uninstalled pytz-2020.1\n",
      "  Attempting uninstall: pandas\n",
      "    Found existing installation: pandas 0.20.3\n",
      "    Uninstalling pandas-0.20.3:\n",
      "      Successfully uninstalled pandas-0.20.3\n",
      "  Attempting uninstall: scipy\n",
      "    Found existing installation: scipy 1.5.2\n",
      "    Uninstalling scipy-1.5.2:\n",
      "      Successfully uninstalled scipy-1.5.2\n",
      "  Attempting uninstall: alphalens\n",
      "    Found existing installation: alphalens 0.3.6\n",
      "    Uninstalling alphalens-0.3.6:\n",
      "      Successfully uninstalled alphalens-0.3.6\n",
      "  Attempting uninstall: pandas-datareader\n",
      "    Found existing installation: pandas-datareader 0.9.0\n",
      "    Uninstalling pandas-datareader-0.9.0:\n",
      "      Successfully uninstalled pandas-datareader-0.9.0\n",
      "\u001b[31mERROR: After October 2020 you may experience errors when installing or updating packages. This is because pip will change the way that it resolves dependency conflicts.\n",
      "\n",
      "We recommend you use --use-feature=2020-resolver to test your packages with the new resolver before it becomes the default.\n",
      "\n",
      "statsmodels 0.11.1 requires pandas>=0.21, but you'll have pandas 0.18.1 which is incompatible.\n",
      "seaborn 0.10.1 requires pandas>=0.22.0, but you'll have pandas 0.18.1 which is incompatible.\n",
      "seaborn 0.10.1 requires scipy>=1.0.1, but you'll have scipy 1.0.0 which is incompatible.\n",
      "matplotlib 3.3.1 requires numpy>=1.15, but you'll have numpy 1.14.0 which is incompatible.\u001b[0m\n",
      "Successfully installed Cython-0.29.21 Logbook-1.5.3 Mako-1.1.3 alembic-1.4.2 alphalens-0.3.2 bcolz-0.12.1 bottleneck-1.3.2 click-7.1.2 contextlib2-0.6.0.post1 cyordereddict-1.0.0 graphviz-0.10.1 intervaltree-3.1.0 lru-dict-1.1.6 multipledispatch-0.6.0 networkx-1.11 numexpr-2.7.1 numpy-1.14.0 pandas-0.18.1 pandas-datareader-0.5.0 python-dateutil-2.6.1 python-editor-1.0.4 pytz-2017.3 requests-file-1.5.1 requests-ftp-0.3.1 scipy-1.0.0 sortedcontainers-2.2.2 sqlalchemy-1.3.19 tables-3.3.0 toolz-0.10.0 zipline-1.2.0\n"
     ]
    }
   ],
   "source": [
    "import sys\n",
    "!{sys.executable} -m pip install -r requirements.txt"
   ]
  },
  {
   "cell_type": "markdown",
   "metadata": {},
   "source": [
    "### Load Packages"
   ]
  },
  {
   "cell_type": "code",
   "execution_count": 2,
   "metadata": {},
   "outputs": [
    {
     "name": "stdout",
     "output_type": "stream",
     "text": [
      "Collecting decorators\n",
      "  Downloading decorators-2.0.7.tar.gz (11 kB)\n",
      "Building wheels for collected packages: decorators\n",
      "  Building wheel for decorators (setup.py) ... \u001b[?25ldone\n",
      "\u001b[?25h  Created wheel for decorators: filename=decorators-2.0.7-py3-none-any.whl size=11546 sha256=a60e640234fd547e1270caff47c4bff6b2a24c3168dc027f643e520afa71970d\n",
      "  Stored in directory: /root/.cache/pip/wheels/bc/5b/37/3e891bad5fb3b16b3d99051bed8faa69c23262edc5ad20d4a5\n",
      "Successfully built decorators\n",
      "Installing collected packages: decorators\n",
      "Successfully installed decorators-2.0.7\n"
     ]
    }
   ],
   "source": [
    "! pip install decorators"
   ]
  },
  {
   "cell_type": "code",
   "execution_count": 3,
   "metadata": {},
   "outputs": [
    {
     "ename": "ModuleNotFoundError",
     "evalue": "No module named 'pandas.util._decorators'",
     "output_type": "error",
     "traceback": [
      "\u001b[0;31m---------------------------------------------------------------------------\u001b[0m",
      "\u001b[0;31mModuleNotFoundError\u001b[0m                       Traceback (most recent call last)",
      "\u001b[0;32m<ipython-input-3-f727836eb9e0>\u001b[0m in \u001b[0;36m<module>\u001b[0;34m\u001b[0m\n\u001b[0;32m----> 1\u001b[0;31m \u001b[0;32mimport\u001b[0m \u001b[0mproject_helper\u001b[0m\u001b[0;34m\u001b[0m\u001b[0;34m\u001b[0m\u001b[0m\n\u001b[0m\u001b[1;32m      2\u001b[0m \u001b[0;32mimport\u001b[0m \u001b[0mproject_tests\u001b[0m\u001b[0;34m\u001b[0m\u001b[0;34m\u001b[0m\u001b[0m\n\u001b[1;32m      3\u001b[0m \u001b[0;34m\u001b[0m\u001b[0m\n\u001b[1;32m      4\u001b[0m \u001b[0;32mimport\u001b[0m \u001b[0mnumpy\u001b[0m \u001b[0;32mas\u001b[0m \u001b[0mnp\u001b[0m\u001b[0;34m\u001b[0m\u001b[0;34m\u001b[0m\u001b[0m\n\u001b[1;32m      5\u001b[0m \u001b[0;32mimport\u001b[0m \u001b[0mpandas\u001b[0m \u001b[0;32mas\u001b[0m \u001b[0mpd\u001b[0m\u001b[0;34m\u001b[0m\u001b[0;34m\u001b[0m\u001b[0m\n",
      "\u001b[0;32m/workspace/AI-for-trading/7-combining-signals-for-enhanced-alpha/project_helper.py\u001b[0m in \u001b[0;36m<module>\u001b[0;34m\u001b[0m\n\u001b[0;32m----> 1\u001b[0;31m \u001b[0;32mimport\u001b[0m \u001b[0malphalens\u001b[0m \u001b[0;32mas\u001b[0m \u001b[0mal\u001b[0m\u001b[0;34m\u001b[0m\u001b[0;34m\u001b[0m\u001b[0m\n\u001b[0m\u001b[1;32m      2\u001b[0m \u001b[0;32mimport\u001b[0m \u001b[0mgraphviz\u001b[0m\u001b[0;34m\u001b[0m\u001b[0;34m\u001b[0m\u001b[0m\n\u001b[1;32m      3\u001b[0m \u001b[0;32mimport\u001b[0m \u001b[0mmatplotlib\u001b[0m\u001b[0;34m.\u001b[0m\u001b[0mpyplot\u001b[0m \u001b[0;32mas\u001b[0m \u001b[0mplt\u001b[0m\u001b[0;34m\u001b[0m\u001b[0;34m\u001b[0m\u001b[0m\n\u001b[1;32m      4\u001b[0m \u001b[0;32mimport\u001b[0m \u001b[0mnumpy\u001b[0m \u001b[0;32mas\u001b[0m \u001b[0mnp\u001b[0m\u001b[0;34m\u001b[0m\u001b[0;34m\u001b[0m\u001b[0m\n\u001b[1;32m      5\u001b[0m \u001b[0;32mimport\u001b[0m \u001b[0mpandas\u001b[0m \u001b[0;32mas\u001b[0m \u001b[0mpd\u001b[0m\u001b[0;34m\u001b[0m\u001b[0;34m\u001b[0m\u001b[0m\n",
      "\u001b[0;32m/usr/local/lib/python3.6/site-packages/alphalens/__init__.py\u001b[0m in \u001b[0;36m<module>\u001b[0;34m\u001b[0m\n\u001b[0;32m----> 1\u001b[0;31m \u001b[0;32mfrom\u001b[0m \u001b[0;34m.\u001b[0m \u001b[0;32mimport\u001b[0m \u001b[0mperformance\u001b[0m\u001b[0;34m\u001b[0m\u001b[0;34m\u001b[0m\u001b[0m\n\u001b[0m\u001b[1;32m      2\u001b[0m \u001b[0;32mfrom\u001b[0m \u001b[0;34m.\u001b[0m \u001b[0;32mimport\u001b[0m \u001b[0mplotting\u001b[0m\u001b[0;34m\u001b[0m\u001b[0;34m\u001b[0m\u001b[0m\n\u001b[1;32m      3\u001b[0m \u001b[0;32mfrom\u001b[0m \u001b[0;34m.\u001b[0m \u001b[0;32mimport\u001b[0m \u001b[0mtears\u001b[0m\u001b[0;34m\u001b[0m\u001b[0;34m\u001b[0m\u001b[0m\n\u001b[1;32m      4\u001b[0m \u001b[0;32mfrom\u001b[0m \u001b[0;34m.\u001b[0m \u001b[0;32mimport\u001b[0m \u001b[0mutils\u001b[0m\u001b[0;34m\u001b[0m\u001b[0;34m\u001b[0m\u001b[0m\n\u001b[1;32m      5\u001b[0m \u001b[0;34m\u001b[0m\u001b[0m\n",
      "\u001b[0;32m/usr/local/lib/python3.6/site-packages/alphalens/performance.py\u001b[0m in \u001b[0;36m<module>\u001b[0;34m\u001b[0m\n\u001b[1;32m     20\u001b[0m \u001b[0;32mfrom\u001b[0m \u001b[0mpandas\u001b[0m\u001b[0;34m.\u001b[0m\u001b[0mtseries\u001b[0m\u001b[0;34m.\u001b[0m\u001b[0moffsets\u001b[0m \u001b[0;32mimport\u001b[0m \u001b[0mBDay\u001b[0m\u001b[0;34m\u001b[0m\u001b[0;34m\u001b[0m\u001b[0m\n\u001b[1;32m     21\u001b[0m \u001b[0;32mfrom\u001b[0m \u001b[0mscipy\u001b[0m \u001b[0;32mimport\u001b[0m \u001b[0mstats\u001b[0m\u001b[0;34m\u001b[0m\u001b[0;34m\u001b[0m\u001b[0m\n\u001b[0;32m---> 22\u001b[0;31m \u001b[0;32mfrom\u001b[0m \u001b[0mstatsmodels\u001b[0m\u001b[0;34m.\u001b[0m\u001b[0mregression\u001b[0m\u001b[0;34m.\u001b[0m\u001b[0mlinear_model\u001b[0m \u001b[0;32mimport\u001b[0m \u001b[0mOLS\u001b[0m\u001b[0;34m\u001b[0m\u001b[0;34m\u001b[0m\u001b[0m\n\u001b[0m\u001b[1;32m     23\u001b[0m \u001b[0;32mfrom\u001b[0m \u001b[0mstatsmodels\u001b[0m\u001b[0;34m.\u001b[0m\u001b[0mtools\u001b[0m\u001b[0;34m.\u001b[0m\u001b[0mtools\u001b[0m \u001b[0;32mimport\u001b[0m \u001b[0madd_constant\u001b[0m\u001b[0;34m\u001b[0m\u001b[0;34m\u001b[0m\u001b[0m\n\u001b[1;32m     24\u001b[0m \u001b[0;32mfrom\u001b[0m \u001b[0;34m.\u001b[0m \u001b[0;32mimport\u001b[0m \u001b[0mutils\u001b[0m\u001b[0;34m\u001b[0m\u001b[0;34m\u001b[0m\u001b[0m\n",
      "\u001b[0;32m/usr/local/lib/python3.6/site-packages/statsmodels/regression/__init__.py\u001b[0m in \u001b[0;36m<module>\u001b[0;34m\u001b[0m\n\u001b[0;32m----> 1\u001b[0;31m \u001b[0;32mfrom\u001b[0m \u001b[0;34m.\u001b[0m\u001b[0mlinear_model\u001b[0m \u001b[0;32mimport\u001b[0m \u001b[0myule_walker\u001b[0m\u001b[0;34m\u001b[0m\u001b[0;34m\u001b[0m\u001b[0m\n\u001b[0m\u001b[1;32m      2\u001b[0m \u001b[0;34m\u001b[0m\u001b[0m\n\u001b[1;32m      3\u001b[0m \u001b[0;32mfrom\u001b[0m \u001b[0mstatsmodels\u001b[0m\u001b[0;34m.\u001b[0m\u001b[0mtools\u001b[0m\u001b[0;34m.\u001b[0m\u001b[0m_testing\u001b[0m \u001b[0;32mimport\u001b[0m \u001b[0mPytestTester\u001b[0m\u001b[0;34m\u001b[0m\u001b[0;34m\u001b[0m\u001b[0m\n\u001b[1;32m      4\u001b[0m \u001b[0;34m\u001b[0m\u001b[0m\n\u001b[1;32m      5\u001b[0m \u001b[0m__all__\u001b[0m \u001b[0;34m=\u001b[0m \u001b[0;34m[\u001b[0m\u001b[0;34m'yule_walker'\u001b[0m\u001b[0;34m,\u001b[0m \u001b[0;34m'test'\u001b[0m\u001b[0;34m]\u001b[0m\u001b[0;34m\u001b[0m\u001b[0;34m\u001b[0m\u001b[0m\n",
      "\u001b[0;32m/usr/local/lib/python3.6/site-packages/statsmodels/regression/linear_model.py\u001b[0m in \u001b[0;36m<module>\u001b[0;34m\u001b[0m\n\u001b[1;32m     33\u001b[0m \u001b[0;34m\u001b[0m\u001b[0m\n\u001b[1;32m     34\u001b[0m \u001b[0;34m\u001b[0m\u001b[0m\n\u001b[0;32m---> 35\u001b[0;31m \u001b[0;32mfrom\u001b[0m \u001b[0mstatsmodels\u001b[0m\u001b[0;34m.\u001b[0m\u001b[0mcompat\u001b[0m\u001b[0;34m.\u001b[0m\u001b[0mpython\u001b[0m \u001b[0;32mimport\u001b[0m \u001b[0mlrange\u001b[0m\u001b[0;34m,\u001b[0m \u001b[0mlzip\u001b[0m\u001b[0;34m\u001b[0m\u001b[0;34m\u001b[0m\u001b[0m\n\u001b[0m\u001b[1;32m     36\u001b[0m \u001b[0;32mfrom\u001b[0m \u001b[0mstatsmodels\u001b[0m\u001b[0;34m.\u001b[0m\u001b[0mcompat\u001b[0m\u001b[0;34m.\u001b[0m\u001b[0mpandas\u001b[0m \u001b[0;32mimport\u001b[0m \u001b[0mAppender\u001b[0m\u001b[0;34m\u001b[0m\u001b[0;34m\u001b[0m\u001b[0m\n\u001b[1;32m     37\u001b[0m \u001b[0;34m\u001b[0m\u001b[0m\n",
      "\u001b[0;32m/usr/local/lib/python3.6/site-packages/statsmodels/compat/__init__.py\u001b[0m in \u001b[0;36m<module>\u001b[0;34m\u001b[0m\n\u001b[0;32m----> 1\u001b[0;31m \u001b[0;32mfrom\u001b[0m \u001b[0mstatsmodels\u001b[0m\u001b[0;34m.\u001b[0m\u001b[0mtools\u001b[0m\u001b[0;34m.\u001b[0m\u001b[0m_testing\u001b[0m \u001b[0;32mimport\u001b[0m \u001b[0mPytestTester\u001b[0m\u001b[0;34m\u001b[0m\u001b[0;34m\u001b[0m\u001b[0m\n\u001b[0m\u001b[1;32m      2\u001b[0m \u001b[0;34m\u001b[0m\u001b[0m\n\u001b[1;32m      3\u001b[0m from .python import (\n\u001b[1;32m      4\u001b[0m     \u001b[0mPY37\u001b[0m\u001b[0;34m,\u001b[0m\u001b[0;34m\u001b[0m\u001b[0;34m\u001b[0m\u001b[0m\n\u001b[1;32m      5\u001b[0m     \u001b[0masunicode\u001b[0m\u001b[0;34m,\u001b[0m \u001b[0masbytes\u001b[0m\u001b[0;34m,\u001b[0m \u001b[0masstr\u001b[0m\u001b[0;34m,\u001b[0m\u001b[0;34m\u001b[0m\u001b[0;34m\u001b[0m\u001b[0m\n",
      "\u001b[0;32m/usr/local/lib/python3.6/site-packages/statsmodels/tools/__init__.py\u001b[0m in \u001b[0;36m<module>\u001b[0;34m\u001b[0m\n\u001b[1;32m      1\u001b[0m \u001b[0;32mfrom\u001b[0m \u001b[0;34m.\u001b[0m\u001b[0mtools\u001b[0m \u001b[0;32mimport\u001b[0m \u001b[0madd_constant\u001b[0m\u001b[0;34m,\u001b[0m \u001b[0mcategorical\u001b[0m\u001b[0;34m\u001b[0m\u001b[0;34m\u001b[0m\u001b[0m\n\u001b[0;32m----> 2\u001b[0;31m \u001b[0;32mfrom\u001b[0m \u001b[0mstatsmodels\u001b[0m\u001b[0;34m.\u001b[0m\u001b[0mtools\u001b[0m\u001b[0;34m.\u001b[0m\u001b[0m_testing\u001b[0m \u001b[0;32mimport\u001b[0m \u001b[0mPytestTester\u001b[0m\u001b[0;34m\u001b[0m\u001b[0;34m\u001b[0m\u001b[0m\n\u001b[0m\u001b[1;32m      3\u001b[0m \u001b[0;34m\u001b[0m\u001b[0m\n\u001b[1;32m      4\u001b[0m \u001b[0m__all__\u001b[0m \u001b[0;34m=\u001b[0m \u001b[0;34m[\u001b[0m\u001b[0;34m'test'\u001b[0m\u001b[0;34m,\u001b[0m \u001b[0;34m'add_constant'\u001b[0m\u001b[0;34m,\u001b[0m \u001b[0;34m'categorical'\u001b[0m\u001b[0;34m]\u001b[0m\u001b[0;34m\u001b[0m\u001b[0;34m\u001b[0m\u001b[0m\n\u001b[1;32m      5\u001b[0m \u001b[0;34m\u001b[0m\u001b[0m\n",
      "\u001b[0;32m/usr/local/lib/python3.6/site-packages/statsmodels/tools/_testing.py\u001b[0m in \u001b[0;36m<module>\u001b[0;34m\u001b[0m\n\u001b[1;32m      9\u001b[0m \u001b[0;34m\u001b[0m\u001b[0m\n\u001b[1;32m     10\u001b[0m \"\"\"\n\u001b[0;32m---> 11\u001b[0;31m \u001b[0;32mfrom\u001b[0m \u001b[0mstatsmodels\u001b[0m\u001b[0;34m.\u001b[0m\u001b[0mcompat\u001b[0m\u001b[0;34m.\u001b[0m\u001b[0mpandas\u001b[0m \u001b[0;32mimport\u001b[0m \u001b[0massert_equal\u001b[0m\u001b[0;34m\u001b[0m\u001b[0;34m\u001b[0m\u001b[0m\n\u001b[0m\u001b[1;32m     12\u001b[0m \u001b[0;34m\u001b[0m\u001b[0m\n\u001b[1;32m     13\u001b[0m \u001b[0;32mimport\u001b[0m \u001b[0mos\u001b[0m\u001b[0;34m\u001b[0m\u001b[0;34m\u001b[0m\u001b[0m\n",
      "\u001b[0;32m/usr/local/lib/python3.6/site-packages/statsmodels/compat/pandas.py\u001b[0m in \u001b[0;36m<module>\u001b[0;34m\u001b[0m\n\u001b[1;32m      4\u001b[0m \u001b[0;32mimport\u001b[0m \u001b[0mnumpy\u001b[0m \u001b[0;32mas\u001b[0m \u001b[0mnp\u001b[0m\u001b[0;34m\u001b[0m\u001b[0;34m\u001b[0m\u001b[0m\n\u001b[1;32m      5\u001b[0m \u001b[0;32mimport\u001b[0m \u001b[0mpandas\u001b[0m \u001b[0;32mas\u001b[0m \u001b[0mpd\u001b[0m\u001b[0;34m\u001b[0m\u001b[0;34m\u001b[0m\u001b[0m\n\u001b[0;32m----> 6\u001b[0;31m \u001b[0;32mfrom\u001b[0m \u001b[0mpandas\u001b[0m\u001b[0;34m.\u001b[0m\u001b[0mutil\u001b[0m\u001b[0;34m.\u001b[0m\u001b[0m_decorators\u001b[0m \u001b[0;32mimport\u001b[0m \u001b[0mdeprecate_kwarg\u001b[0m\u001b[0;34m,\u001b[0m \u001b[0mAppender\u001b[0m\u001b[0;34m,\u001b[0m \u001b[0mSubstitution\u001b[0m\u001b[0;34m\u001b[0m\u001b[0;34m\u001b[0m\u001b[0m\n\u001b[0m\u001b[1;32m      7\u001b[0m \u001b[0;34m\u001b[0m\u001b[0m\n\u001b[1;32m      8\u001b[0m __all__ = ['assert_frame_equal', 'assert_index_equal', 'assert_series_equal',\n",
      "\u001b[0;31mModuleNotFoundError\u001b[0m: No module named 'pandas.util._decorators'"
     ]
    }
   ],
   "source": [
    "import project_helper\n",
    "import project_tests\n",
    "\n",
    "import numpy as np\n",
    "import pandas as pd\n",
    "from tqdm import tqdm\n",
    "import matplotlib.pyplot as plt\n",
    "\n",
    "%matplotlib inline\n",
    "plt.style.use('ggplot')\n",
    "plt.rcParams['figure.figsize'] = (14, 8)"
   ]
  },
  {
   "cell_type": "markdown",
   "metadata": {},
   "source": [
    "## Data Pipeline\n",
    "### Data Bundle\n",
    "We'll be using Zipline to handle our data. We've created a end of day data bundle for this project. Run the cell below to register this data bundle in zipline."
   ]
  },
  {
   "cell_type": "code",
   "execution_count": null,
   "metadata": {},
   "outputs": [],
   "source": [
    "import os\n",
    "from zipline.data import bundles\n",
    "\n",
    "os.environ['ZIPLINE_ROOT'] = os.path.join(os.getcwd(), '..', '..', 'data', 'project_7_eod')\n",
    "\n",
    "ingest_func = bundles.csvdir.csvdir_equities(['daily'], project_helper.EOD_BUNDLE_NAME)\n",
    "bundles.register(project_helper.EOD_BUNDLE_NAME, ingest_func)\n",
    "\n",
    "print('Data Registered')"
   ]
  },
  {
   "cell_type": "markdown",
   "metadata": {},
   "source": [
    "### Build Pipeline Engine\n",
    "We'll be using Zipline's pipeline package to access our data for this project. To use it, we must build a pipeline engine. Run the cell below to build the engine."
   ]
  },
  {
   "cell_type": "code",
   "execution_count": null,
   "metadata": {},
   "outputs": [],
   "source": [
    "from zipline.pipeline import Pipeline\n",
    "from zipline.pipeline.factors import AverageDollarVolume\n",
    "from zipline.utils.calendars import get_calendar\n",
    "\n",
    "\n",
    "universe = AverageDollarVolume(window_length=120).top(500) \n",
    "trading_calendar = get_calendar('NYSE') \n",
    "bundle_data = bundles.load(project_helper.EOD_BUNDLE_NAME)\n",
    "engine = project_helper.build_pipeline_engine(bundle_data, trading_calendar)"
   ]
  },
  {
   "cell_type": "markdown",
   "metadata": {},
   "source": [
    "#### View Data\n",
    "With the pipeline engine built, let's get the stocks at the end of the period in the universe we're using."
   ]
  },
  {
   "cell_type": "code",
   "execution_count": null,
   "metadata": {},
   "outputs": [],
   "source": [
    "universe_end_date = pd.Timestamp('2016-01-05', tz='UTC')\n",
    "\n",
    "universe_tickers = engine\\\n",
    "    .run_pipeline(\n",
    "        Pipeline(screen=universe),\n",
    "        universe_end_date,\n",
    "        universe_end_date)\\\n",
    "    .index.get_level_values(1)\\\n",
    "    .values.tolist()\n",
    "    \n",
    "universe_tickers"
   ]
  },
  {
   "cell_type": "markdown",
   "metadata": {},
   "source": [
    "### Get Returns\n",
    "Not that we have our pipeline built, let's access the returns data. We'll start by building a data portal."
   ]
  },
  {
   "cell_type": "code",
   "execution_count": null,
   "metadata": {},
   "outputs": [],
   "source": [
    "from zipline.data.data_portal import DataPortal\n",
    "\n",
    "\n",
    "data_portal = DataPortal(\n",
    "    bundle_data.asset_finder,\n",
    "    trading_calendar=trading_calendar,\n",
    "    first_trading_day=bundle_data.equity_daily_bar_reader.first_trading_day,\n",
    "    equity_minute_reader=None,\n",
    "    equity_daily_reader=bundle_data.equity_daily_bar_reader,\n",
    "    adjustment_reader=bundle_data.adjustment_reader)"
   ]
  },
  {
   "cell_type": "markdown",
   "metadata": {},
   "source": [
    "To make the code easier to read, we've built the helper function `get_pricing` to get the pricing from the data portal. "
   ]
  },
  {
   "cell_type": "code",
   "execution_count": null,
   "metadata": {},
   "outputs": [],
   "source": [
    "def get_pricing(data_portal, trading_calendar, assets, start_date, end_date, field='close'):\n",
    "    end_dt = pd.Timestamp(end_date.strftime('%Y-%m-%d'), tz='UTC', offset='C')\n",
    "    start_dt = pd.Timestamp(start_date.strftime('%Y-%m-%d'), tz='UTC', offset='C')\n",
    "\n",
    "    end_loc = trading_calendar.closes.index.get_loc(end_dt)\n",
    "    start_loc = trading_calendar.closes.index.get_loc(start_dt)\n",
    "\n",
    "    return data_portal.get_history_window(\n",
    "        assets=assets,\n",
    "        end_dt=end_dt,\n",
    "        bar_count=end_loc - start_loc,\n",
    "        frequency='1d',\n",
    "        field=field,\n",
    "        data_frequency='daily')"
   ]
  },
  {
   "cell_type": "markdown",
   "metadata": {},
   "source": [
    "# Alpha Factors\n",
    "It's time to start working on the alpha factors. In this project, we'll use the following factors:\n",
    "- Momentum 1 Year Factor\n",
    "- Mean Reversion 5 Day Sector Neutral Smoothed Factor\n",
    "- Overnight Sentiment Smoothed Factor"
   ]
  },
  {
   "cell_type": "code",
   "execution_count": null,
   "metadata": {},
   "outputs": [],
   "source": [
    "from zipline.pipeline.factors import CustomFactor, DailyReturns, Returns, SimpleMovingAverage, AnnualizedVolatility\n",
    "from zipline.pipeline.data import USEquityPricing\n",
    "\n",
    "\n",
    "factor_start_date = universe_end_date - pd.DateOffset(years=3, days=2)\n",
    "sector = project_helper.Sector()\n",
    "\n",
    "def momentum_1yr(window_length, universe, sector):\n",
    "    return Returns(window_length=window_length, mask=universe) \\\n",
    "        .demean(groupby=sector) \\\n",
    "        .rank() \\\n",
    "        .zscore()\n",
    "\n",
    "def mean_reversion_5day_sector_neutral_smoothed(window_length, universe, sector):\n",
    "    unsmoothed_factor = -Returns(window_length=window_length, mask=universe) \\\n",
    "        .demean(groupby=sector) \\\n",
    "        .rank() \\\n",
    "        .zscore()\n",
    "    return SimpleMovingAverage(inputs=[unsmoothed_factor], window_length=window_length) \\\n",
    "        .rank() \\\n",
    "        .zscore()\n",
    "\n",
    "class CTO(Returns):\n",
    "    \"\"\"\n",
    "    Computes the overnight return, per hypothesis from\n",
    "    https://papers.ssrn.com/sol3/papers.cfm?abstract_id=2554010\n",
    "    \"\"\"\n",
    "    inputs = [USEquityPricing.open, USEquityPricing.close]\n",
    "    \n",
    "    def compute(self, today, assets, out, opens, closes):\n",
    "        \"\"\"\n",
    "        The opens and closes matrix is 2 rows x N assets, with the most recent at the bottom.\n",
    "        As such, opens[-1] is the most recent open, and closes[0] is the earlier close\n",
    "        \"\"\"\n",
    "        out[:] = (opens[-1] - closes[0]) / closes[0]\n",
    "        \n",
    "class TrailingOvernightReturns(Returns):\n",
    "    \"\"\"\n",
    "    Sum of trailing 1m O/N returns\n",
    "    \"\"\"\n",
    "    window_safe = True\n",
    "    \n",
    "    def compute(self, today, asset_ids, out, cto):\n",
    "        out[:] = np.nansum(cto, axis=0)\n",
    "\n",
    "def overnight_sentiment_smoothed(cto_window_length, trail_overnight_returns_window_length, universe):\n",
    "    cto_out = CTO(mask=universe, window_length=cto_window_length)\n",
    "    unsmoothed_factor = TrailingOvernightReturns(inputs=[cto_out], window_length=trail_overnight_returns_window_length) \\\n",
    "        .rank() \\\n",
    "        .zscore()\n",
    "    return SimpleMovingAverage(inputs=[unsmoothed_factor], window_length=trail_overnight_returns_window_length) \\\n",
    "        .rank() \\\n",
    "        .zscore()"
   ]
  },
  {
   "cell_type": "markdown",
   "metadata": {},
   "source": [
    "### Combine the Factors to a single Pipeline\n",
    "Let's add the factors to a pipeline."
   ]
  },
  {
   "cell_type": "code",
   "execution_count": null,
   "metadata": {},
   "outputs": [],
   "source": [
    "universe = AverageDollarVolume(window_length=120).top(500)\n",
    "sector = project_helper.Sector()\n",
    "\n",
    "pipeline = Pipeline(screen=universe)\n",
    "pipeline.add(\n",
    "    momentum_1yr(252, universe, sector),\n",
    "    'Momentum_1YR')\n",
    "pipeline.add(\n",
    "    mean_reversion_5day_sector_neutral_smoothed(20, universe, sector),\n",
    "    'Mean_Reversion_Sector_Neutral_Smoothed')\n",
    "pipeline.add(\n",
    "    overnight_sentiment_smoothed(2, 10, universe),\n",
    "    'Overnight_Sentiment_Smoothed')"
   ]
  },
  {
   "cell_type": "markdown",
   "metadata": {},
   "source": [
    "## Features and Labels\n",
    "Let's create some features that we think will help the model make predictions.\n",
    "### \"Universal\" Quant Features\n",
    "To capture the universe, we'll use the following as features:\n",
    "- Stock Volatility 20d, 120d\n",
    "- Stock Dollar Volume 20d, 120d\n",
    "- Sector"
   ]
  },
  {
   "cell_type": "code",
   "execution_count": null,
   "metadata": {},
   "outputs": [],
   "source": [
    "pipeline.add(AnnualizedVolatility(window_length=20, mask=universe).rank().zscore(), 'volatility_20d')\n",
    "pipeline.add(AnnualizedVolatility(window_length=120, mask=universe).rank().zscore(), 'volatility_120d')\n",
    "pipeline.add(AverageDollarVolume(window_length=20, mask=universe).rank().zscore(), 'adv_20d')\n",
    "pipeline.add(AverageDollarVolume(window_length=120, mask=universe).rank().zscore(), 'adv_120d')\n",
    "pipeline.add(sector, 'sector_code')"
   ]
  },
  {
   "cell_type": "markdown",
   "metadata": {},
   "source": [
    "### Regime Features\n",
    "We are going to try to capture market-wide regimes. To do that, we'll use the following features:\n",
    "- High and low volatility 20d, 120d\n",
    "- High and low dispersion 20d, 120d"
   ]
  },
  {
   "cell_type": "code",
   "execution_count": null,
   "metadata": {},
   "outputs": [],
   "source": [
    "class MarketDispersion(CustomFactor):\n",
    "    inputs = [DailyReturns()]\n",
    "    window_length = 1\n",
    "    window_safe = True\n",
    "\n",
    "    def compute(self, today, assets, out, returns):\n",
    "        # returns are days in rows, assets across columns\n",
    "        out[:] = np.sqrt(np.nanmean((returns - np.nanmean(returns))**2))\n",
    "\n",
    "\n",
    "pipeline.add(SimpleMovingAverage(inputs=[MarketDispersion(mask=universe)], window_length=20), 'dispersion_20d')\n",
    "pipeline.add(SimpleMovingAverage(inputs=[MarketDispersion(mask=universe)], window_length=120), 'dispersion_120d')"
   ]
  },
  {
   "cell_type": "code",
   "execution_count": null,
   "metadata": {},
   "outputs": [],
   "source": [
    "class MarketVolatility(CustomFactor):\n",
    "    inputs = [DailyReturns()]\n",
    "    window_length = 1\n",
    "    window_safe = True\n",
    "    \n",
    "    def compute(self, today, assets, out, returns):\n",
    "        mkt_returns = np.nanmean(returns, axis=1)\n",
    "        out[:] = np.sqrt(260.* np.nanmean((mkt_returns-np.nanmean(mkt_returns))**2))\n",
    "\n",
    "\n",
    "pipeline.add(MarketVolatility(window_length=20), 'market_vol_20d')\n",
    "pipeline.add(MarketVolatility(window_length=120), 'market_vol_120d')"
   ]
  },
  {
   "cell_type": "markdown",
   "metadata": {},
   "source": [
    "### Target\n",
    "Let's try to predict the go forward 1-week return. When doing this, it's important to quantize the target. The factor we create is the trailing 5-day return."
   ]
  },
  {
   "cell_type": "code",
   "execution_count": null,
   "metadata": {},
   "outputs": [],
   "source": [
    "pipeline.add(Returns(window_length=5, mask=universe).quantiles(2), 'return_5d')\n",
    "pipeline.add(Returns(window_length=5, mask=universe).quantiles(25), 'return_5d_p')"
   ]
  },
  {
   "cell_type": "markdown",
   "metadata": {},
   "source": [
    "### Date Features\n",
    "Let's make columns for the trees to split on that might capture trader/investor behavior due to calendar anomalies."
   ]
  },
  {
   "cell_type": "code",
   "execution_count": null,
   "metadata": {},
   "outputs": [],
   "source": [
    "all_factors = engine.run_pipeline(pipeline, factor_start_date, universe_end_date)\n",
    "\n",
    "all_factors['is_Janaury'] = all_factors.index.get_level_values(0).month == 1\n",
    "all_factors['is_December'] = all_factors.index.get_level_values(0).month == 12\n",
    "all_factors['weekday'] = all_factors.index.get_level_values(0).weekday\n",
    "all_factors['quarter'] = all_factors.index.get_level_values(0).quarter\n",
    "all_factors['qtr_yr'] = all_factors.quarter.astype('str') + '_' + all_factors.index.get_level_values(0).year.astype('str')\n",
    "all_factors['month_end'] = all_factors.index.get_level_values(0).isin(pd.date_range(start=factor_start_date, end=universe_end_date, freq='BM'))\n",
    "all_factors['month_start'] = all_factors.index.get_level_values(0).isin(pd.date_range(start=factor_start_date, end=universe_end_date, freq='BMS'))\n",
    "all_factors['qtr_end'] = all_factors.index.get_level_values(0).isin(pd.date_range(start=factor_start_date, end=universe_end_date, freq='BQ'))\n",
    "all_factors['qtr_start'] = all_factors.index.get_level_values(0).isin(pd.date_range(start=factor_start_date, end=universe_end_date, freq='BQS'))\n",
    "\n",
    "all_factors.head()"
   ]
  },
  {
   "cell_type": "markdown",
   "metadata": {},
   "source": [
    "### One Hot Encode Sectors\n",
    "For the model to better understand the sector data, we'll one hot encode this data."
   ]
  },
  {
   "cell_type": "code",
   "execution_count": null,
   "metadata": {},
   "outputs": [],
   "source": [
    "sector_lookup = pd.read_csv(\n",
    "    os.path.join(os.getcwd(), '..', '..', 'data', 'project_7_sector', 'labels.csv'),\n",
    "    index_col='Sector_i')['Sector'].to_dict()\n",
    "sector_lookup\n",
    "\n",
    "sector_columns = []\n",
    "for sector_i, sector_name in sector_lookup.items():\n",
    "    secotr_column = 'sector_{}'.format(sector_name)\n",
    "    sector_columns.append(secotr_column)\n",
    "    all_factors[secotr_column] = (all_factors['sector_code'] == sector_i)\n",
    "\n",
    "all_factors[sector_columns].head()"
   ]
  },
  {
   "cell_type": "markdown",
   "metadata": {},
   "source": [
    "### Shift Target\n",
    "We'll use shifted 5 day returns for training the model."
   ]
  },
  {
   "cell_type": "code",
   "execution_count": null,
   "metadata": {},
   "outputs": [],
   "source": [
    "all_factors['target'] = all_factors.groupby(level=1)['return_5d'].shift(-5)\n",
    "\n",
    "all_factors[['return_5d','target']].reset_index().sort_values(['level_1', 'level_0']).head(10)"
   ]
  },
  {
   "cell_type": "markdown",
   "metadata": {},
   "source": [
    "### IID Check of Target\n",
    "Let's see if the returns are independent and identically distributed."
   ]
  },
  {
   "cell_type": "code",
   "execution_count": null,
   "metadata": {},
   "outputs": [],
   "source": [
    "from scipy.stats import spearmanr\n",
    "\n",
    "\n",
    "def sp(group, col1_name, col2_name):\n",
    "    x = group[col1_name]\n",
    "    y = group[col2_name]\n",
    "    return spearmanr(x, y)[0]\n",
    "\n",
    "\n",
    "all_factors['target_p'] = all_factors.groupby(level=1)['return_5d_p'].shift(-5)\n",
    "all_factors['target_1'] = all_factors.groupby(level=1)['return_5d'].shift(-4)\n",
    "all_factors['target_2'] = all_factors.groupby(level=1)['return_5d'].shift(-3)\n",
    "all_factors['target_3'] = all_factors.groupby(level=1)['return_5d'].shift(-2)\n",
    "all_factors['target_4'] = all_factors.groupby(level=1)['return_5d'].shift(-1)\n",
    "\n",
    "g = all_factors.dropna().groupby(level=0)\n",
    "for i in range(4):\n",
    "    label = 'target_'+str(i+1)\n",
    "    ic = g.apply(sp, 'target', label)\n",
    "    ic.plot(ylim=(-1, 1), label=label)\n",
    "plt.legend(bbox_to_anchor=(1.04, 1), borderaxespad=0)\n",
    "plt.title('Rolling Autocorrelation of Labels Shifted 1,2,3,4 Days')\n",
    "plt.show()"
   ]
  },
  {
   "cell_type": "markdown",
   "metadata": {},
   "source": [
    "### Question: What do you observe in the rolling autocorrelation of labels shifted?\n",
    "*#TODO: Put Answer In this Cell*\n",
    "\n",
    "I have two main observations:\n",
    "\n",
    "1. The autocorrelation of each target is quite stable, but it seems that the larger the shift, the larger the fluctuation.\n",
    "\n",
    "2. As expected, targets with smaller shift will have larger autocorrelation, and this trend is monotonic\n",
    "\n",
    "Conclusion: the next day returns are correlated with the previous day returns, especially when shifted day is 1. This effect reduces when the shifted day is bigger. When the shift is 4 days, it seems that there are no correlation anymore."
   ]
  },
  {
   "cell_type": "markdown",
   "metadata": {},
   "source": [
    "\n",
    "### Train/Valid/Test Splits\n",
    "Now let's split the data into a train, validation, and test dataset. Implement the function `train_valid_test_split` to split the input samples, `all_x`, and targets values, `all_y` into a train, validation, and test dataset. The proportion sizes are `train_size`, `valid_size`, `test_size` respectively.\n",
    "\n",
    "When splitting, make sure the data is in order from train, validation, and test respectivly. Say `train_size` is 0.7, `valid_size` is 0.2, and `test_size` is 0.1. The first 70 percent of `all_x` and `all_y` would be the train set. The next 20 percent of `all_x` and `all_y` would be the validation set. The last 10 percent of `all_x` and `all_y` would be the test set. Make sure not split a day between multiple datasets. It should be contained within a single dataset."
   ]
  },
  {
   "cell_type": "code",
   "execution_count": null,
   "metadata": {
    "scrolled": false
   },
   "outputs": [],
   "source": [
    "def train_valid_test_split(all_x, all_y, train_size, valid_size, test_size):\n",
    "    \"\"\"\n",
    "    Generate the train, validation, and test dataset.\n",
    "\n",
    "    Parameters\n",
    "    ----------\n",
    "    all_x : DataFrame\n",
    "        All the input samples\n",
    "    all_y : Pandas Series\n",
    "        All the target values\n",
    "    train_size : float\n",
    "        The proportion of the data used for the training dataset\n",
    "    valid_size : float\n",
    "        The proportion of the data used for the validation dataset\n",
    "    test_size : float\n",
    "        The proportion of the data used for the test dataset\n",
    "\n",
    "    Returns\n",
    "    -------\n",
    "    x_train : DataFrame\n",
    "        The train input samples\n",
    "    x_valid : DataFrame\n",
    "        The validation input samples\n",
    "    x_test : DataFrame\n",
    "        The test input samples\n",
    "    y_train : Pandas Series\n",
    "        The train target values\n",
    "    y_valid : Pandas Series\n",
    "        The validation target values\n",
    "    y_test : Pandas Series\n",
    "        The test target values\n",
    "    \"\"\"\n",
    "    assert train_size >= 0 and train_size <= 1.0\n",
    "    assert valid_size >= 0 and valid_size <= 1.0\n",
    "    assert test_size >= 0 and test_size <= 1.0\n",
    "    assert train_size + valid_size + test_size == 1.0\n",
    "    \n",
    "    # TODO: Implement\n",
    "    train_end_index = int(all_x.shape[0] * train_size)\n",
    "    valid_end_index = int(all_x.shape[0] * valid_size) + train_end_index\n",
    "\n",
    "    x_train = all_x.iloc[: train_end_index, :]\n",
    "    y_train = all_y[: train_end_index]\n",
    "    x_val = all_x.iloc[train_end_index: valid_end_index, :]\n",
    "    y_val = all_y[train_end_index: valid_end_index]    \n",
    "    x_test = all_x.iloc[valid_end_index :, :]\n",
    "    y_test = all_y[valid_end_index :]\n",
    "    return x_train, x_val, x_test, y_train, y_val, y_test\n",
    "\n",
    "\n",
    "project_tests.test_train_valid_test_split(train_valid_test_split)"
   ]
  },
  {
   "cell_type": "markdown",
   "metadata": {},
   "source": [
    "With `train_valid_test_split` implemented, let's split the data into a train, validation, and test set. For this, we'll use some of the features and the 5 day returns for our target."
   ]
  },
  {
   "cell_type": "code",
   "execution_count": null,
   "metadata": {},
   "outputs": [],
   "source": [
    "features = [\n",
    "    'Mean_Reversion_Sector_Neutral_Smoothed', 'Momentum_1YR',\n",
    "    'Overnight_Sentiment_Smoothed', 'adv_120d', 'adv_20d',\n",
    "    'dispersion_120d', 'dispersion_20d', 'market_vol_120d',\n",
    "    'market_vol_20d', 'volatility_20d',\n",
    "    'is_Janaury', 'is_December', 'weekday',\n",
    "    'month_end', 'month_start', 'qtr_end', 'qtr_start'] + sector_columns\n",
    "target_label = 'target'\n",
    "\n",
    "temp = all_factors.dropna().copy()\n",
    "X = temp[features]\n",
    "y = temp[target_label]\n",
    "\n",
    "X_train, X_valid, X_test, y_train, y_valid, y_test = train_valid_test_split(X, y, 0.6, 0.2, 0.2)\n",
    "\n",
    "X_train.head()"
   ]
  },
  {
   "cell_type": "markdown",
   "metadata": {},
   "source": [
    "## Random Forests\n",
    "### Visualize a Simple Tree\n",
    "Let's see how a single tree would look using our data."
   ]
  },
  {
   "cell_type": "code",
   "execution_count": null,
   "metadata": {},
   "outputs": [],
   "source": [
    "from IPython.display import display\n",
    "from sklearn.tree import DecisionTreeClassifier\n",
    "\n",
    "\n",
    "# This is to get consistent results between each run.\n",
    "clf_random_state = 0\n",
    "\n",
    "simple_clf = DecisionTreeClassifier(\n",
    "    max_depth=3,\n",
    "    criterion='entropy',\n",
    "    random_state=clf_random_state)\n",
    "simple_clf.fit(X_train, y_train)\n",
    "\n",
    "display(project_helper.plot_tree_classifier(simple_clf, feature_names=features))\n",
    "project_helper.rank_features_by_importance(simple_clf.feature_importances_, features)"
   ]
  },
  {
   "cell_type": "markdown",
   "metadata": {},
   "source": [
    "We calculate the information gain for each node:"
   ]
  },
  {
   "cell_type": "code",
   "execution_count": null,
   "metadata": {},
   "outputs": [],
   "source": [
    "# function taken from https://github.com/olbedo/AITND_P7_Combining_Signals_for_Enhanced_Alpha/blob/master/project_7_starter.ipynb\n",
    "def calculate_information_gain(tree, node):\n",
    "    child_left = tree.children_left[node]\n",
    "    if child_left == -1:\n",
    "        return 0\n",
    "    child_right = tree.children_right[node]\n",
    "    return tree.impurity[node] - (\n",
    "         ( tree.weighted_n_node_samples[child_left] * tree.impurity[child_left] + \n",
    "           tree.weighted_n_node_samples[child_right] * tree.impurity[child_right] )\n",
    "           / tree.weighted_n_node_samples[node] )"
   ]
  },
  {
   "cell_type": "code",
   "execution_count": null,
   "metadata": {
    "scrolled": true
   },
   "outputs": [],
   "source": [
    "information_gains = {}\n",
    "for n, f in enumerate(simple_clf.tree_.feature):\n",
    "    if f >= 0:\n",
    "        information_gains[features[f]]= information_gains.setdefault(features[f], 0) + calculate_information_gain(tree, n)"
   ]
  },
  {
   "cell_type": "code",
   "execution_count": null,
   "metadata": {},
   "outputs": [],
   "source": [
    "information_gains"
   ]
  },
  {
   "cell_type": "markdown",
   "metadata": {},
   "source": [
    "### Question: Why does dispersion_20d have the highest feature importance, when the first split is on the Momentum_1YR feature?\n",
    "*#TODO: Put Answer In this Cell*\n",
    "\n",
    "According to the calculation above, the total information gain of dispersion_20d is 0.00287 while for Momentum_1YR, it's only 0.000104. dispersion_20d also has the highest information gain, that's why it has the highest feature importance. The fact that the first split is on the Momentum_1YR feature is irrelevant."
   ]
  },
  {
   "cell_type": "markdown",
   "metadata": {},
   "source": [
    "### Train Random Forests with Different Tree Sizes\n",
    "Let's build models using different tree sizes to find the model that best generalizes.\n",
    "#### Parameters\n",
    "When building the models, we'll use the following parameters."
   ]
  },
  {
   "cell_type": "code",
   "execution_count": null,
   "metadata": {},
   "outputs": [],
   "source": [
    "n_days = 10\n",
    "n_stocks = 500\n",
    "\n",
    "clf_parameters = {\n",
    "    'criterion': 'entropy',\n",
    "    'min_samples_leaf': n_stocks * n_days,\n",
    "    'oob_score': True,\n",
    "    'n_jobs': -1,\n",
    "    'random_state': clf_random_state}\n",
    "n_trees_l = [50, 100, 250, 500, 1000]"
   ]
  },
  {
   "cell_type": "markdown",
   "metadata": {},
   "source": [
    "Recall from the lesson, that we’ll choose a min_samples_leaf parameter to be small enough to allow the tree to fit the data with as much detail as possible, but not so much that it overfits.  We can first propose 500, which is the number of assets in the estimation universe. Since we have about 500 stocks in the stock universe, we’ll want at least 500 stocks in a leaf for the leaf to make a prediction that is representative.  It’s common to multiply this by 2,3,5 or 10, so we’d have min samples leaf of 500, 1000, 1500, 2500, and 5000. If we were to try these values, we’d notice that the model is “too good to be true” on the training data.  A good rule of thumb for what is considered “too good to be true”, and therefore a sign of overfitting, is if the sharpe ratio is greater than 4.  Based on this, we recommend using min_sampes_leaf of 10 * 500, or 5,000.\n",
    "\n",
    "Feel free to try other values for these parameters, but also keep in mind that making too many small adjustments to hyper-parameters can lead to overfitting even the validation data, and therefore lead to less generalizable performance on the out-of-sample test set.  So when trying different parameter values, choose values that are different enough in scale (i.e. 10, 20, 100 instead of 10,11,12)."
   ]
  },
  {
   "cell_type": "code",
   "execution_count": null,
   "metadata": {},
   "outputs": [],
   "source": [
    "from sklearn.ensemble import RandomForestClassifier\n",
    "\n",
    "\n",
    "train_score = []\n",
    "valid_score = []\n",
    "oob_score = []\n",
    "feature_importances = []\n",
    "\n",
    "for n_trees in tqdm(n_trees_l, desc='Training Models', unit='Model'):\n",
    "    clf = RandomForestClassifier(n_trees, **clf_parameters)\n",
    "    clf.fit(X_train, y_train)\n",
    "    \n",
    "    train_score.append(clf.score(X_train, y_train.values))\n",
    "    valid_score.append(clf.score(X_valid, y_valid.values))\n",
    "    oob_score.append(clf.oob_score_)\n",
    "    feature_importances.append(clf.feature_importances_)"
   ]
  },
  {
   "cell_type": "markdown",
   "metadata": {},
   "source": [
    "Let's look at the accuracy of the classifiers over the number of trees."
   ]
  },
  {
   "cell_type": "code",
   "execution_count": null,
   "metadata": {},
   "outputs": [],
   "source": [
    "project_helper.plot(\n",
    "    [n_trees_l]*3,\n",
    "    [train_score, valid_score, oob_score],\n",
    "    ['train', 'validation', 'oob'],\n",
    "    'Random Forrest Accuracy',\n",
    "    'Number of Trees')"
   ]
  },
  {
   "cell_type": "markdown",
   "metadata": {},
   "source": [
    "#### Question: 1) What do you observe with the accuracy vs tree size graph? 2) Does the graph indicate the model is overfitting or underfitting? Describe how it indicates this.\n",
    "*#TODO: Put Answer In this Cell*\n",
    "\n",
    "At the beginning, the accuracy of train and oob increase a little while the accuracy of validation set decreases a little, after that, all three lines are quite \n",
    "\n",
    "It's quite clear that the model already overfits the data when the size of the tree is still small because the accuracy of train and validation dataset diverge from the beginning. After that, it seems that the model is saturated because even a bigger tree doesn't yield the higher accuracy.\n"
   ]
  },
  {
   "cell_type": "markdown",
   "metadata": {},
   "source": [
    "Now let's looks at the average feature importance of the classifiers."
   ]
  },
  {
   "cell_type": "code",
   "execution_count": null,
   "metadata": {},
   "outputs": [],
   "source": [
    "print('Features Ranked by Average Importance:\\n')\n",
    "project_helper.rank_features_by_importance(np.average(feature_importances, axis=0), features)"
   ]
  },
  {
   "cell_type": "markdown",
   "metadata": {},
   "source": [
    "You might notice that some of the features of low to no importance. We will be removing them when training the final model.\n",
    "### Model Results\n",
    "Let's look at some additional metrics to see how well a model performs. We've created the function `show_sample_results` to show the following results of a model:\n",
    "- Sharpe Ratios\n",
    "- Factor Returns\n",
    "- Factor Rank Autocorrelation"
   ]
  },
  {
   "cell_type": "code",
   "execution_count": null,
   "metadata": {},
   "outputs": [],
   "source": [
    "import alphalens as al\n",
    "\n",
    "\n",
    "all_assets = all_factors.index.levels[1].values.tolist()\n",
    "all_pricing = get_pricing(\n",
    "    data_portal,\n",
    "    trading_calendar,\n",
    "    all_assets,\n",
    "    factor_start_date,\n",
    "    universe_end_date)\n",
    "\n",
    "def show_sample_results(data, samples, classifier, factors, pricing=all_pricing):\n",
    "    # Calculate the Alpha Score\n",
    "    prob_array=[-1,1]\n",
    "    alpha_score = classifier.predict_proba(samples).dot(np.array(prob_array))\n",
    "    \n",
    "    # Add Alpha Score to rest of the factors\n",
    "    alpha_score_label = 'AI_ALPHA'\n",
    "    factors_with_alpha = data.loc[samples.index].copy()\n",
    "    factors_with_alpha[alpha_score_label] = alpha_score\n",
    "    \n",
    "    # Setup data for AlphaLens\n",
    "    print('Cleaning Data...\\n')\n",
    "    factor_data = project_helper.build_factor_data(factors_with_alpha[factors + [alpha_score_label]], pricing)\n",
    "    print('\\n-----------------------\\n')\n",
    "    \n",
    "    # Calculate Factor Returns and Sharpe Ratio\n",
    "    factor_returns = project_helper.get_factor_returns(factor_data)\n",
    "    sharpe_ratio = project_helper.sharpe_ratio(factor_returns)\n",
    "    \n",
    "    # Show Results\n",
    "    print('             Sharpe Ratios')\n",
    "    print(sharpe_ratio.round(2))\n",
    "    project_helper.plot_factor_returns(factor_returns)\n",
    "    project_helper.plot_factor_rank_autocorrelation(factor_data)"
   ]
  },
  {
   "cell_type": "markdown",
   "metadata": {},
   "source": [
    "#### Results\n",
    "Let's compare our AI Alpha factor to a few other factors. We'll use the following:"
   ]
  },
  {
   "cell_type": "code",
   "execution_count": null,
   "metadata": {},
   "outputs": [],
   "source": [
    "factor_names = [\n",
    "    'Mean_Reversion_Sector_Neutral_Smoothed',\n",
    "    'Momentum_1YR',\n",
    "    'Overnight_Sentiment_Smoothed',\n",
    "    'adv_120d',\n",
    "    'volatility_20d']"
   ]
  },
  {
   "cell_type": "markdown",
   "metadata": {},
   "source": [
    "##### Training Prediction\n",
    "Let's see how well the model runs on training data."
   ]
  },
  {
   "cell_type": "code",
   "execution_count": null,
   "metadata": {},
   "outputs": [],
   "source": [
    "show_sample_results(all_factors, X_train, clf, factor_names)"
   ]
  },
  {
   "cell_type": "markdown",
   "metadata": {},
   "source": [
    "##### Validation Prediction\n",
    "Let's see how well the model runs on validation data."
   ]
  },
  {
   "cell_type": "code",
   "execution_count": null,
   "metadata": {},
   "outputs": [],
   "source": [
    "show_sample_results(all_factors, X_valid, clf, factor_names)"
   ]
  },
  {
   "cell_type": "markdown",
   "metadata": {},
   "source": [
    "So that's pretty extraordinary. Even when the input factor returns are sideways to down, the AI Alpha is positive with Sharpe Ratio > 2. If we hope that this model will perform well in production we need to correct though for the non-IID labels and mitigate likely overfitting."
   ]
  },
  {
   "cell_type": "markdown",
   "metadata": {},
   "source": [
    "## Overlapping Samples\n",
    "Let's fix this by removing overlapping samples. We can do a number of things:\n",
    "\n",
    "- Don't use overlapping samples\n",
    "- Use BaggingClassifier's `max_samples`\n",
    "- Build an ensemble of non-overlapping trees\n",
    "\n",
    "In this project, we'll do all three methods and compare.\n",
    "### Drop Overlapping Samples\n",
    "This is the simplest of the three methods. We'll just drop any overlapping samples from the dataset. Implement the `non_overlapping_samples` function to return a new dataset overlapping samples. "
   ]
  },
  {
   "cell_type": "code",
   "execution_count": null,
   "metadata": {
    "scrolled": false
   },
   "outputs": [],
   "source": [
    "def non_overlapping_samples(x, y, n_skip_samples, start_i=0):\n",
    "    \"\"\"\n",
    "    Get the non overlapping samples.\n",
    "\n",
    "    Parameters\n",
    "    ----------\n",
    "    x : DataFrame\n",
    "        The input samples\n",
    "    y : Pandas Series\n",
    "        The target values\n",
    "    n_skip_samples : int\n",
    "        The number of samples to skip\n",
    "    start_i : int\n",
    "        The starting index to use for the data\n",
    "    \n",
    "    Returns\n",
    "    -------\n",
    "    non_overlapping_x : 2 dimensional Ndarray\n",
    "        The non overlapping input samples\n",
    "    non_overlapping_y : 1 dimensional Ndarray\n",
    "        The non overlapping target values\n",
    "    \"\"\"\n",
    "    assert len(x.shape) == 2\n",
    "    assert len(y.shape) == 1\n",
    "    \n",
    "    # TODO: Implement\n",
    "    date_index = x.index.levels[0][start_i::n_skip_samples + 1]\n",
    "    row_index = pd.IndexSlice[date_index, :]\n",
    "    non_overlapping_x = x.loc[row_index, :]\n",
    "    non_overlapping_y = y.loc[row_index]\n",
    "    return non_overlapping_x, non_overlapping_y\n",
    "\n",
    "\n",
    "project_tests.test_non_overlapping_samples(non_overlapping_samples)"
   ]
  },
  {
   "cell_type": "markdown",
   "metadata": {},
   "source": [
    "With the dataset created without overlapping samples, lets train a new model and look at the results."
   ]
  },
  {
   "cell_type": "markdown",
   "metadata": {},
   "source": [
    "#### Train Model"
   ]
  },
  {
   "cell_type": "code",
   "execution_count": null,
   "metadata": {},
   "outputs": [],
   "source": [
    "train_score = []\n",
    "valid_score = []\n",
    "oob_score = []\n",
    "\n",
    "for n_trees in tqdm(n_trees_l, desc='Training Models', unit='Model'):\n",
    "    clf = RandomForestClassifier(n_trees, **clf_parameters)\n",
    "    clf.fit(*non_overlapping_samples(X_train, y_train, 4))\n",
    "    \n",
    "    train_score.append(clf.score(X_train, y_train.values))\n",
    "    valid_score.append(clf.score(X_valid, y_valid.values))\n",
    "    oob_score.append(clf.oob_score_)"
   ]
  },
  {
   "cell_type": "markdown",
   "metadata": {},
   "source": [
    "#### Results"
   ]
  },
  {
   "cell_type": "code",
   "execution_count": null,
   "metadata": {},
   "outputs": [],
   "source": [
    "project_helper.plot(\n",
    "    [n_trees_l]*3,\n",
    "    [train_score, valid_score, oob_score],\n",
    "    ['train', 'validation', 'oob'],\n",
    "    'Random Forrest Accuracy',\n",
    "    'Number of Trees')"
   ]
  },
  {
   "cell_type": "code",
   "execution_count": null,
   "metadata": {},
   "outputs": [],
   "source": [
    "show_sample_results(all_factors, X_valid, clf, factor_names)"
   ]
  },
  {
   "cell_type": "markdown",
   "metadata": {},
   "source": [
    "This looks better, but we are throwing away a lot of information by taking every 5th row."
   ]
  },
  {
   "cell_type": "markdown",
   "metadata": {},
   "source": [
    "### Use BaggingClassifier's `max_samples`\n",
    "In this method, we'll set `max_samples` to be on the order of the average uniqueness of the labels. Since  `RandomForrestClassifier` does not take this param, we're using `BaggingClassifier`. Implement `bagging_classifier` to build the bagging classifier."
   ]
  },
  {
   "cell_type": "code",
   "execution_count": null,
   "metadata": {},
   "outputs": [],
   "source": [
    "from sklearn.ensemble import BaggingClassifier\n",
    "from sklearn.tree import DecisionTreeClassifier\n",
    "\n",
    "\n",
    "def bagging_classifier(n_estimators, max_samples, max_features, parameters):\n",
    "    \"\"\"\n",
    "    Build the bagging classifier.\n",
    "\n",
    "    Parameters\n",
    "    ----------\n",
    "    n_estimators : int \n",
    "        The number of base estimators in the ensemble\n",
    "    max_samples : float \n",
    "        The proportion of input samples drawn from when training each base estimator\n",
    "    max_features : float \n",
    "        The proportion of input sample features drawn from when training each base estimator\n",
    "    parameters : dict\n",
    "        Parameters to use in building the bagging classifier\n",
    "        It should contain the following parameters:\n",
    "            criterion\n",
    "            min_samples_leaf\n",
    "            oob_score\n",
    "            n_jobs\n",
    "            random_state\n",
    "    \n",
    "    Returns\n",
    "    -------\n",
    "    bagging_clf : Scikit-Learn BaggingClassifier\n",
    "        The bagging classifier\n",
    "    \"\"\"\n",
    "    \n",
    "    required_parameters = {'criterion', 'min_samples_leaf', 'oob_score', 'n_jobs', 'random_state'}\n",
    "    assert not required_parameters - set(parameters.keys())\n",
    "    \n",
    "    # TODO: Implement\n",
    "    base_clf = DecisionTreeClassifier(criterion=parameters[\"criterion\"], min_samples_leaf=parameters[\"min_samples_leaf\"])\n",
    "    parameters = parameters.copy()\n",
    "    del parameters[\"criterion\"]\n",
    "    del parameters[\"min_samples_leaf\"]\n",
    "    \n",
    "    return BaggingClassifier(base_estimator=base_clf, n_estimators=n_estimators, max_samples=max_samples, max_features=max_features, **parameters)\n",
    "\n",
    "\n",
    "project_tests.test_bagging_classifier(bagging_classifier)"
   ]
  },
  {
   "cell_type": "markdown",
   "metadata": {},
   "source": [
    "With the bagging classifier built, lets train a new model and look at the results.\n",
    "#### Train Model"
   ]
  },
  {
   "cell_type": "code",
   "execution_count": null,
   "metadata": {},
   "outputs": [],
   "source": [
    "train_score = []\n",
    "valid_score = []\n",
    "oob_score = []\n",
    "\n",
    "for n_trees in tqdm(n_trees_l, desc='Training Models', unit='Model'):\n",
    "    clf = bagging_classifier(n_trees, 0.2, 1.0, clf_parameters)\n",
    "    clf.fit(X_train, y_train)\n",
    "    \n",
    "    train_score.append(clf.score(X_train, y_train.values))\n",
    "    valid_score.append(clf.score(X_valid, y_valid.values))\n",
    "    oob_score.append(clf.oob_score_)"
   ]
  },
  {
   "cell_type": "markdown",
   "metadata": {},
   "source": [
    "#### Results"
   ]
  },
  {
   "cell_type": "code",
   "execution_count": null,
   "metadata": {},
   "outputs": [],
   "source": [
    "project_helper.plot(\n",
    "    [n_trees_l]*3,\n",
    "    [train_score, valid_score, oob_score],\n",
    "    ['train', 'validation', 'oob'],\n",
    "    'Random Forrest Accuracy',\n",
    "    'Number of Trees')"
   ]
  },
  {
   "cell_type": "code",
   "execution_count": null,
   "metadata": {},
   "outputs": [],
   "source": [
    "show_sample_results(all_factors, X_valid, clf, factor_names)"
   ]
  },
  {
   "cell_type": "markdown",
   "metadata": {},
   "source": [
    "This seems much \"better\" in the sense that we have much better fidelity between the three.\n"
   ]
  },
  {
   "cell_type": "markdown",
   "metadata": {},
   "source": [
    "### Build an ensemble of non-overlapping trees\n",
    "The last method is to create ensemble of non-overlapping trees. Here we are going to write a custom `scikit-learn` estimator. We inherit from `VotingClassifier` and we override the `fit` method so we fit on non-overlapping periods."
   ]
  },
  {
   "cell_type": "code",
   "execution_count": null,
   "metadata": {},
   "outputs": [],
   "source": [
    "import abc\n",
    "\n",
    "from sklearn.ensemble import VotingClassifier\n",
    "from sklearn.base import clone\n",
    "from sklearn.preprocessing import LabelEncoder\n",
    "from sklearn.utils import Bunch\n",
    "\n",
    "\n",
    "class NoOverlapVoterAbstract(VotingClassifier):\n",
    "    @abc.abstractmethod\n",
    "    def _calculate_oob_score(self, classifiers):\n",
    "        raise NotImplementedError\n",
    "        \n",
    "    @abc.abstractmethod\n",
    "    def _non_overlapping_estimators(self, x, y, classifiers, n_skip_samples):\n",
    "        raise NotImplementedError\n",
    "    \n",
    "    def __init__(self, estimator, voting='soft', n_skip_samples=4):\n",
    "        # List of estimators for all the subsets of data\n",
    "        estimators = [('clf'+str(i), estimator) for i in range(n_skip_samples + 1)]\n",
    "        \n",
    "        self.n_skip_samples = n_skip_samples\n",
    "        super().__init__(estimators, voting)\n",
    "    \n",
    "    def fit(self, X, y, sample_weight=None):\n",
    "        estimator_names, clfs = zip(*self.estimators)\n",
    "        self.le_ = LabelEncoder().fit(y)\n",
    "        self.classes_ = self.le_.classes_\n",
    "        \n",
    "        clone_clfs = [clone(clf) for clf in clfs]\n",
    "        self.estimators_ = self._non_overlapping_estimators(X, y, clone_clfs, self.n_skip_samples)\n",
    "        self.named_estimators_ = Bunch(**dict(zip(estimator_names, self.estimators_)))\n",
    "        self.oob_score_ = self._calculate_oob_score(self.estimators_)\n",
    "        \n",
    "        return self"
   ]
  },
  {
   "cell_type": "markdown",
   "metadata": {},
   "source": [
    "You might notice that two of the functions are abstracted. These will be the functions that you need to implement.\n",
    "#### OOB Score\n",
    "In order to get the correct OOB score, we need to take the average of all the estimator's OOB scores. Implement `calculate_oob_score` to calculate this score."
   ]
  },
  {
   "cell_type": "code",
   "execution_count": null,
   "metadata": {},
   "outputs": [],
   "source": [
    "def calculate_oob_score(classifiers):\n",
    "    \"\"\"\n",
    "    Calculate the mean out-of-bag score from the classifiers.\n",
    "\n",
    "    Parameters\n",
    "    ----------\n",
    "    classifiers : list of Scikit-Learn Classifiers\n",
    "        The classifiers used to calculate the mean out-of-bag score\n",
    "    \n",
    "    Returns\n",
    "    -------\n",
    "    oob_score : float\n",
    "        The mean out-of-bag score\n",
    "    \"\"\"\n",
    "    \n",
    "    # TODO: Implement\n",
    "    return np.mean([classifier.oob_score_ for classifier in classifiers])\n",
    "\n",
    "\n",
    "project_tests.test_calculate_oob_score(calculate_oob_score)"
   ]
  },
  {
   "cell_type": "markdown",
   "metadata": {},
   "source": [
    "#### Non Overlapping Estimators\n",
    "With `calculate_oob_score` implemented, let's create non overlapping estimators. Implement `non_overlapping_estimators` to build non overlapping subsets of the data, then run a estimator on each subset of data."
   ]
  },
  {
   "cell_type": "code",
   "execution_count": null,
   "metadata": {},
   "outputs": [],
   "source": [
    "def non_overlapping_estimators(x, y, classifiers, n_skip_samples):\n",
    "    \"\"\"\n",
    "    Fit the classifiers to non overlapping data.\n",
    "\n",
    "    Parameters\n",
    "    ----------\n",
    "    x : DataFrame\n",
    "        The input samples\n",
    "    y : Pandas Series\n",
    "        The target values\n",
    "    classifiers : list of Scikit-Learn Classifiers\n",
    "        The classifiers used to fit on the non overlapping data\n",
    "    n_skip_samples : int\n",
    "        The number of samples to skip\n",
    "    \n",
    "    Returns\n",
    "    -------\n",
    "    fit_classifiers : list of Scikit-Learn Classifiers\n",
    "        The classifiers fit to the the non overlapping data\n",
    "    \"\"\"\n",
    "    \n",
    "    # TODO: Implement\n",
    "    for index, classifier in enumerate(classifiers):\n",
    "        x, y = non_overlapping_samples(x, y, n_skip_samples, start_i=index)\n",
    "        classifier.fit(x, y)\n",
    "    return classifiers\n",
    "\n",
    "\n",
    "project_tests.test_non_overlapping_estimators(non_overlapping_estimators)"
   ]
  },
  {
   "cell_type": "code",
   "execution_count": null,
   "metadata": {},
   "outputs": [],
   "source": [
    "class NoOverlapVoter(NoOverlapVoterAbstract):\n",
    "    def _calculate_oob_score(self, classifiers):\n",
    "        return calculate_oob_score(classifiers)\n",
    "        \n",
    "    def _non_overlapping_estimators(self, x, y, classifiers, n_skip_samples):\n",
    "        return non_overlapping_estimators(x, y, classifiers, n_skip_samples)"
   ]
  },
  {
   "cell_type": "markdown",
   "metadata": {},
   "source": [
    "Now that we have our `NoOverlapVoter` class, let's train it."
   ]
  },
  {
   "cell_type": "markdown",
   "metadata": {},
   "source": [
    "#### Train Model"
   ]
  },
  {
   "cell_type": "code",
   "execution_count": null,
   "metadata": {
    "scrolled": false
   },
   "outputs": [],
   "source": [
    "train_score = []\n",
    "valid_score = []\n",
    "oob_score = []\n",
    "\n",
    "for n_trees in tqdm(n_trees_l, desc='Training Models', unit='Model'):\n",
    "    clf = RandomForestClassifier(n_trees, **clf_parameters)\n",
    "    \n",
    "    clf_nov = NoOverlapVoter(clf)\n",
    "    clf_nov.fit(X_train, y_train)\n",
    "    \n",
    "    train_score.append(clf_nov.score(X_train, y_train.values))\n",
    "    valid_score.append(clf_nov.score(X_valid, y_valid.values))\n",
    "    oob_score.append(clf_nov.oob_score_)"
   ]
  },
  {
   "cell_type": "markdown",
   "metadata": {},
   "source": [
    "#### Results"
   ]
  },
  {
   "cell_type": "code",
   "execution_count": null,
   "metadata": {},
   "outputs": [],
   "source": [
    "project_helper.plot(\n",
    "    [n_trees_l]*3,\n",
    "    [train_score, valid_score, oob_score],\n",
    "    ['train', 'validation', 'oob'],\n",
    "    'Random Forrest Accuracy',\n",
    "    'Number of Trees')"
   ]
  },
  {
   "cell_type": "code",
   "execution_count": null,
   "metadata": {},
   "outputs": [],
   "source": [
    "show_sample_results(all_factors, X_valid, clf_nov, factor_names)"
   ]
  },
  {
   "cell_type": "markdown",
   "metadata": {},
   "source": [
    "## Final Model\n",
    "### Re-Training Model\n",
    "In production, we would roll forward the training. Typically you would re-train up to the \"current day\" and then test. Here, we will train on the train & validation dataset."
   ]
  },
  {
   "cell_type": "code",
   "execution_count": null,
   "metadata": {},
   "outputs": [],
   "source": [
    "n_trees = 500\n",
    "\n",
    "clf = RandomForestClassifier(n_trees, **clf_parameters)\n",
    "clf_nov = NoOverlapVoter(clf)\n",
    "clf_nov.fit(\n",
    "    pd.concat([X_train, X_valid]),\n",
    "    pd.concat([y_train, y_valid]))"
   ]
  },
  {
   "cell_type": "markdown",
   "metadata": {},
   "source": [
    "### Results\n",
    "#### Accuracy"
   ]
  },
  {
   "cell_type": "code",
   "execution_count": null,
   "metadata": {},
   "outputs": [],
   "source": [
    "print('train: {}, oob: {}, valid: {}'.format(\n",
    "    clf_nov.score(X_train, y_train.values),\n",
    "    clf_nov.score(X_valid, y_valid.values),\n",
    "    clf_nov.oob_score_))"
   ]
  },
  {
   "cell_type": "markdown",
   "metadata": {},
   "source": [
    "#### Train"
   ]
  },
  {
   "cell_type": "code",
   "execution_count": null,
   "metadata": {},
   "outputs": [],
   "source": [
    "show_sample_results(all_factors, X_train, clf_nov, factor_names)"
   ]
  },
  {
   "cell_type": "markdown",
   "metadata": {},
   "source": [
    "#### Validation"
   ]
  },
  {
   "cell_type": "code",
   "execution_count": null,
   "metadata": {},
   "outputs": [],
   "source": [
    "show_sample_results(all_factors, X_valid, clf_nov, factor_names)"
   ]
  },
  {
   "cell_type": "markdown",
   "metadata": {},
   "source": [
    "#### Test"
   ]
  },
  {
   "cell_type": "code",
   "execution_count": null,
   "metadata": {},
   "outputs": [],
   "source": [
    "show_sample_results(all_factors, X_test, clf_nov, factor_names)"
   ]
  },
  {
   "cell_type": "markdown",
   "metadata": {},
   "source": [
    "So, hopefully you are appropriately amazed by this. Despite the significant differences between the factor performances in the three sets, the AI APLHA is able to deliver positive performance."
   ]
  },
  {
   "cell_type": "markdown",
   "metadata": {},
   "source": [
    "## Submission\n",
    "Now that you're done with the project, it's time to submit it. Click the submit button in the bottom right. One of our reviewers will give you feedback on your project with a pass or not passed grade. You can continue to the next section while you wait for feedback."
   ]
  }
 ],
 "metadata": {
  "kernelspec": {
   "display_name": "Python 3",
   "language": "python",
   "name": "python3"
  },
  "language_info": {
   "codemirror_mode": {
    "name": "ipython",
    "version": 3
   },
   "file_extension": ".py",
   "mimetype": "text/x-python",
   "name": "python",
   "nbconvert_exporter": "python",
   "pygments_lexer": "ipython3",
   "version": "3.6.12"
  }
 },
 "nbformat": 4,
 "nbformat_minor": 2
}
